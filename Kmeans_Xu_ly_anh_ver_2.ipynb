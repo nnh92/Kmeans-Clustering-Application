{
  "nbformat": 4,
  "nbformat_minor": 0,
  "metadata": {
    "colab": {
      "name": "Kmeans-Xu-ly-anh ver 2.ipynb",
      "provenance": [],
      "authorship_tag": "ABX9TyPnhUv3LzkOsCeOHa5hlcKs",
      "include_colab_link": true
    },
    "kernelspec": {
      "name": "python3",
      "display_name": "Python 3"
    },
    "language_info": {
      "name": "python"
    }
  },
  "cells": [
    {
      "cell_type": "markdown",
      "metadata": {
        "id": "view-in-github",
        "colab_type": "text"
      },
      "source": [
        "<a href=\"https://colab.research.google.com/github/nnh92/Kmeans-Clustering-Application/blob/main/Kmeans_Xu_ly_anh_ver_2.ipynb\" target=\"_parent\"><img src=\"https://colab.research.google.com/assets/colab-badge.svg\" alt=\"Open In Colab\"/></a>"
      ]
    },
    {
      "cell_type": "code",
      "metadata": {
        "id": "Mi-dlE9tWY-F",
        "colab": {
          "base_uri": "https://localhost:8080/"
        },
        "outputId": "3e2d353d-e292-40d2-cfa7-0ff27993f819"
      },
      "source": [
        "import numpy as np\n",
        "import matplotlib.pyplot as plt\n",
        "import matplotlib.image as mpimg\n",
        "from mnist import MNIST\n",
        "from sklearn.cluster import KMeans\n",
        "\n",
        "mndata = MNIST('../data/MNIST/')\n",
        "#mndata.load_testing()\n",
        "X = mndata.test_images\n",
        "print(X)\n",
        "\n",
        "\n",
        "\n",
        "\n"
      ],
      "execution_count": 12,
      "outputs": [
        {
          "output_type": "stream",
          "text": [
            "[]\n"
          ],
          "name": "stdout"
        }
      ]
    },
    {
      "cell_type": "code",
      "metadata": {
        "id": "ZRd0of-FY7rH",
        "colab": {
          "base_uri": "https://localhost:8080/"
        },
        "outputId": "c6eae03b-4663-49b0-c985-f7002d837f0e"
      },
      "source": [
        "!pip install python-mnist"
      ],
      "execution_count": 3,
      "outputs": [
        {
          "output_type": "stream",
          "text": [
            "Collecting python-mnist\n",
            "  Downloading https://files.pythonhosted.org/packages/64/f0/6086b84427c3bf156ec0b3c2f9dfc1d770b35f942b9ed8a64f5229776a80/python_mnist-0.7-py2.py3-none-any.whl\n",
            "Installing collected packages: python-mnist\n",
            "Successfully installed python-mnist-0.7\n"
          ],
          "name": "stdout"
        }
      ]
    }
  ]
}